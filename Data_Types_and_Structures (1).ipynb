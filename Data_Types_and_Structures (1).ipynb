{
  "nbformat": 4,
  "nbformat_minor": 0,
  "metadata": {
    "colab": {
      "provenance": []
    },
    "kernelspec": {
      "name": "python3",
      "display_name": "Python 3"
    },
    "language_info": {
      "name": "python"
    }
  },
  "cells": [
    {
      "cell_type": "markdown",
      "source": [
        "#Data Types and Structures Questions\n"
      ],
      "metadata": {
        "id": "LvANN7m9cz36"
      }
    },
    {
      "cell_type": "markdown",
      "source": [
        "1.  What are data structures, and why are they important?\n",
        "    - A data structure is a way of organizing and storing data in a computer so it can be accessed and modified efficiently. They are important because they allow us to manage large amounts of data, making programs run faster and more efficiently. For example, a contact list can be stored in an array for quick access.\n",
        "\n",
        "2.  Explain the difference between mutable and immutable data types with examples?\n",
        "    - A mutable data type can be changed after it's created. Lists, for example, are mutable. You can add, remove, or change elements in a list. An immutable data type cannot be changed once it's created. Strings and tuples are immutable; if you want to \"change\" a string, you actually have to create a new one.\n",
        "     - Example\n",
        "     \n",
        "       my_list = [1, 2, 3]\n",
        "       my_list.append(4)  # This modifies the original list\n",
        "       print(my_list)\n",
        "       \n",
        "       Output: [1, 2, 3, 4]\n",
        "       \n",
        "       my_string = \"hello\"\n",
        "       new_string = my_string.upper() # This creates a new string\n",
        "       print(new_string)\n",
        "       print(my_string)  \n",
        "\n",
        "       Output: hello (original string is unchanged)\n",
        "\n",
        "3.  What are the main differences between lists and tuples in Python?\n",
        "    - The primary difference is mutability. Lists are mutable (changeable), while tuples are immutable (unchangeable). Lists are typically used for a collection of items that might need to change. Tuples are used for collections of items that should not change, like coordinates or dates. Tuples are also generally faster to process than lists.\n",
        "\n",
        "4.  Describe how dictionaries store data.\n",
        "    - Dictionaries store data as key-value pairs. Each unique key is associated with a specific value. The key is used to quickly retrieve the corresponding value. Keys must be immutable types, like strings or numbers, while values can be any data type.\n",
        "\n",
        "5.  Why might you use a set instead of a list in Python?\n",
        "    - A set is an unordered collection of unique elements. You would use a set instead of a list when you need to ensure that there are no duplicate items. Sets also offer very fast operations for checking if an element is a member of the set and for mathematical set operations like union and intersection.\n",
        "\n",
        "6.  What is a string in Python, and how is it different from a list?\n",
        "    - A string is an immutable sequence of characters. It's used to represent text. A list is a mutable, ordered collection of items of any data type. The main differences are that strings are immutable and only contain characters, whereas lists are mutable and can contain different data types.\n",
        "\n",
        "7.  How do tuples ensure data integrity in Python?\n",
        "    - Because tuples are immutable, their contents cannot be changed after they are created. This property ensures that the data they hold remains constant and is not accidentally altered by other parts of the program, thus preserving its data integrity.\n",
        "\n",
        "8.  What is a hash table, and how does it relate to dictionaries in Python?\n",
        "    - A hash table (or hash map) is the underlying data structure used to implement dictionaries in Python. It uses a hash function to map keys to a specific location (or bucket) in memory, allowing for very fast average-case access, insertion, and deletion of key-value pairs.\n",
        "\n",
        "9.  Can lists contain different data types in Python?\n",
        "    - Yes, lists can contain different data types. For example, a single list can hold an integer, a string, a floating-point number, and even another list.\n",
        "\n",
        "10. Explain why strings are immutable in Python.\n",
        "    - Strings are immutable in Python because it allows for more efficient memory management and security. Since a string's value is guaranteed not to change, Python can optimize how it's stored. Immutability also makes strings useful as dictionary keys, as keys must be an immutable type.\n",
        "\n",
        "11. What advantages do dictionaries offer over lists for certain tasks?\n",
        "    - Dictionaries offer a significant advantage for tasks where you need to look up a value based on a key rather than an index. Dictionary lookups are extremely fast, as they don't have to iterate through the entire collection. Lists are better for ordered collections where you need to access elements by their position.\n",
        "\n",
        "12. Describe a scenario where using a tuple would be preferable over a list.\n",
        "    - A tuple would be preferable over a list for storing data that should not change. For example, if you're representing a point in a 2D space, you might use `(x, y)` coordinates. Since these coordinates should remain fixed, a tuple ensures they aren't accidentally altered. Another common use is for returning multiple values from a function.\n",
        "\n",
        "13. How do sets handle duplicate values in Python?\n",
        "    - Sets automatically discard duplicate values. When you create a set from a list that contains duplicates, the resulting set will only contain one of each unique item.\n",
        "\n",
        "14. How does the 'in' keyword work differently for lists and dictionaries?\n",
        "    - For lists, the `in` keyword checks for the presence of a value among its elements. The time it takes can depend on the size of the list. For dictionaries, the `in` keyword checks if an item is present among its keys. This is a much faster operation because of the dictionary's underlying hash table structure.\n",
        "\n",
        "15. Can you modify the elements of a tuple? Explain why or why not.\n",
        "    - No, you cannot modify the elements of a tuple. This is because tuples are immutable data types. Any attempt to change an element, like `my_tuple[0] = 5`, will result in a `TypeError`.\n",
        "\n",
        "16. What is a nested dictionary, and give an example of its use case?\n",
        "    - A nested dictionary is a dictionary where the values are themselves other dictionaries. This structure is useful for representing hierarchical data. A common use case is storing data for a student, where each student's record is a dictionary, and the student's name is the key.\n",
        "\n",
        "     Example:\n",
        "\n",
        "     students = {\n",
        "      'John': {'age': 25, 'city': 'New York'},\n",
        "      'Alice': {'age': 22, 'city': 'London'}\n",
        "     }\n",
        "\n",
        "17. Describe the time complexity of accessing elements in a dictionary.\n",
        "    - The time complexity of accessing elements in a dictionary is, on average, O(1) (constant time). This is extremely fast because the dictionary's hash table allows it to locate the item's position directly using its key, regardless of the size of the dictionary. In the worst-case scenario, due to hash collisions, it can be O(n).\n",
        "\n",
        "18. In what situations are lists preferred over dictionaries?\n",
        "    - Lists are preferred over dictionaries when the data has a natural order or sequence, and you need to access elements by their position (index). For example, a list of student names, a sequence of events, or a simple queue.\n",
        "\n",
        "19. Why are dictionaries considered unordered, and how does that affect data retrieval?\n",
        "    - Dictionaries were traditionally considered unordered because their keys were stored in a way that wasn't necessarily sequential. However, as of Python 3.7, dictionaries maintain insertion order. This means that the order in which items are added is the order in which they will be retrieved. This change makes dictionary behavior more predictable, although they are still fundamentally optimized for key-based lookups, not for positional access like lists.\n",
        "\n",
        "20. Explain the difference between a list and a dictionary in terms of data retrieval.\n",
        "    - With a list, you retrieve data by its index (its position). For example, `my_list[0]` gets the first item. The retrieval speed depends on the list's size. With a dictionary, you retrieve data by its key. For example, `my_dict['name']` gets the value associated with the key 'name'. This retrieval is very fast, as it doesn't depend on the number of items in the dictionary.\n",
        "\n"
      ],
      "metadata": {
        "id": "GwBDLJpIc8Jb"
      }
    },
    {
      "cell_type": "markdown",
      "source": [
        "# Practical Questions\n"
      ],
      "metadata": {
        "id": "GECCEZ87WuYK"
      }
    },
    {
      "cell_type": "code",
      "execution_count": 2,
      "metadata": {
        "id": "P50t5IpBclQE",
        "colab": {
          "base_uri": "https://localhost:8080/"
        },
        "outputId": "b5b303c6-a4b6-43c7-e192-dc1f03e9da2e"
      },
      "outputs": [
        {
          "output_type": "stream",
          "name": "stdout",
          "text": [
            "Vaibhav Kumar Tiwari\n"
          ]
        }
      ],
      "source": [
        "# Question 1: Write a code to create a string with your name and print it.\n",
        "\n",
        "name = \"Vaibhav Kumar Tiwari\"\n",
        "print(name)"
      ]
    },
    {
      "cell_type": "code",
      "source": [
        "# Question 2: Write a code to find the length of the string \"Hello World\".\n",
        "\n",
        "string_two = \"Hello World\"\n",
        "print(len(string_two))"
      ],
      "metadata": {
        "colab": {
          "base_uri": "https://localhost:8080/"
        },
        "id": "HjBNhJPDWkR5",
        "outputId": "a65618b8-2e9d-4336-8e81-1380a506ba03"
      },
      "execution_count": 3,
      "outputs": [
        {
          "output_type": "stream",
          "name": "stdout",
          "text": [
            "11\n"
          ]
        }
      ]
    },
    {
      "cell_type": "code",
      "source": [
        "# Question 3: Write a code to slice the first 3 characters from the string \"Python Programming\".\n",
        "\n",
        "string_three = \"Python Programming\"\n",
        "print(string_three[:3])"
      ],
      "metadata": {
        "colab": {
          "base_uri": "https://localhost:8080/"
        },
        "id": "zC_OBuFCWq24",
        "outputId": "e3cb4ce3-6739-4837-e9a2-f4786d01ed3f"
      },
      "execution_count": 4,
      "outputs": [
        {
          "output_type": "stream",
          "name": "stdout",
          "text": [
            "Pyt\n"
          ]
        }
      ]
    },
    {
      "cell_type": "code",
      "source": [
        "# Question 4: Write a code to convert the string \"hello\" to uppercase.\n",
        "\n",
        "string_four = \"hello\"\n",
        "print(string_four.upper())"
      ],
      "metadata": {
        "colab": {
          "base_uri": "https://localhost:8080/"
        },
        "id": "rIFca0MjXApa",
        "outputId": "5db6b69f-f2fc-4211-e921-7f058b5afd95"
      },
      "execution_count": 5,
      "outputs": [
        {
          "output_type": "stream",
          "name": "stdout",
          "text": [
            "HELLO\n"
          ]
        }
      ]
    },
    {
      "cell_type": "code",
      "source": [
        "# Question 5: Write a code to replace the word \"apple\" with \"orange\" in the string \"I like apple\".\n",
        "\n",
        "string_five = \"I like apple\"\n",
        "print(string_five.replace(\"apple\", \"orange\"))"
      ],
      "metadata": {
        "colab": {
          "base_uri": "https://localhost:8080/"
        },
        "id": "4gPGWgUZXpdP",
        "outputId": "c1a8deb7-e527-421a-925c-cd471056de7f"
      },
      "execution_count": 6,
      "outputs": [
        {
          "output_type": "stream",
          "name": "stdout",
          "text": [
            "I like orange\n"
          ]
        }
      ]
    },
    {
      "cell_type": "code",
      "source": [
        "# Question 6: Write a code to create a list with numbers 1 to 5 and print it.\n",
        "\n",
        "list_six = [1, 2, 3, 4, 5]\n",
        "print(list_six)"
      ],
      "metadata": {
        "colab": {
          "base_uri": "https://localhost:8080/"
        },
        "id": "BkJqjhBdXv71",
        "outputId": "e3ec2827-d413-4925-d6d9-6c874b5c1a22"
      },
      "execution_count": 7,
      "outputs": [
        {
          "output_type": "stream",
          "name": "stdout",
          "text": [
            "[1, 2, 3, 4, 5]\n"
          ]
        }
      ]
    },
    {
      "cell_type": "code",
      "source": [
        "# Question 7: Write a code to append the number 6 to the list [1, 2, 3, 4].\n",
        "\n",
        "list_seven = [1, 2, 3, 4]\n",
        "list_seven.append(6)\n",
        "print(list_seven)"
      ],
      "metadata": {
        "colab": {
          "base_uri": "https://localhost:8080/"
        },
        "id": "hKSh6fhtX60D",
        "outputId": "4c67d332-0663-4d83-ed95-a9d3c60d351a"
      },
      "execution_count": 8,
      "outputs": [
        {
          "output_type": "stream",
          "name": "stdout",
          "text": [
            "[1, 2, 3, 4, 6]\n"
          ]
        }
      ]
    },
    {
      "cell_type": "code",
      "source": [
        "# Question 8: Write a code to remove the number 3 from the list [1, 2, 3, 4, 5].\n",
        "\n",
        "list_eight = [1, 2, 3, 4, 5]\n",
        "list_eight.remove(3)\n",
        "print(list_eight)"
      ],
      "metadata": {
        "colab": {
          "base_uri": "https://localhost:8080/"
        },
        "id": "Dwr6zwzQYCl5",
        "outputId": "be55876e-0051-43e6-db84-b43e4a181b0e"
      },
      "execution_count": 9,
      "outputs": [
        {
          "output_type": "stream",
          "name": "stdout",
          "text": [
            "[1, 2, 4, 5]\n"
          ]
        }
      ]
    },
    {
      "cell_type": "code",
      "source": [
        "# Question 9: Write a code to access the second element in the list ['a', 'b', 'c', 'd'].\n",
        "\n",
        "list_nine = ['a', 'b', 'c', 'd']\n",
        "print(list_nine[1])"
      ],
      "metadata": {
        "colab": {
          "base_uri": "https://localhost:8080/"
        },
        "id": "UHzkg1UuYI4j",
        "outputId": "e869b25e-629e-44e3-da47-baa6518c6431"
      },
      "execution_count": 10,
      "outputs": [
        {
          "output_type": "stream",
          "name": "stdout",
          "text": [
            "b\n"
          ]
        }
      ]
    },
    {
      "cell_type": "code",
      "source": [
        "# Question 10: Write a code to reverse the list [10, 20, 30, 40, 50].\n",
        "\n",
        "list_ten = [10, 20, 30, 40, 50]\n",
        "list_ten.reverse()\n",
        "print(list_ten)"
      ],
      "metadata": {
        "colab": {
          "base_uri": "https://localhost:8080/"
        },
        "id": "X_AdoajGYREW",
        "outputId": "e690a0ae-4d66-4ff7-8697-1831ff962e5e"
      },
      "execution_count": 11,
      "outputs": [
        {
          "output_type": "stream",
          "name": "stdout",
          "text": [
            "[50, 40, 30, 20, 10]\n"
          ]
        }
      ]
    },
    {
      "cell_type": "code",
      "source": [
        "# Question 11: Write a code to create a tuple with elements 100, 200, 300 and print it.\n",
        "\n",
        "tuple_eleven = (100, 200, 300)\n",
        "print(tuple_eleven)"
      ],
      "metadata": {
        "colab": {
          "base_uri": "https://localhost:8080/"
        },
        "id": "zWCvpvZWYWWi",
        "outputId": "89c963e3-f793-4609-e2f1-ea4135cc172e"
      },
      "execution_count": 12,
      "outputs": [
        {
          "output_type": "stream",
          "name": "stdout",
          "text": [
            "(100, 200, 300)\n"
          ]
        }
      ]
    },
    {
      "cell_type": "code",
      "source": [
        "# Question 12: Write a code to access the second-to-last element of the tuple ('red', 'green', 'blue', 'yellow').\n",
        "\n",
        "tuple_twelve = ('red', 'green', 'blue', 'yellow')\n",
        "print(tuple_twelve[-2])"
      ],
      "metadata": {
        "colab": {
          "base_uri": "https://localhost:8080/"
        },
        "id": "QvCIUnx7YfjI",
        "outputId": "07798118-1397-4412-cf45-07cb5ec8e3c1"
      },
      "execution_count": 13,
      "outputs": [
        {
          "output_type": "stream",
          "name": "stdout",
          "text": [
            "blue\n"
          ]
        }
      ]
    },
    {
      "cell_type": "code",
      "source": [
        "# Question 13: Write a code to find the minimum number in the tuple (10, 20, 5, 15).\n",
        "\n",
        "tuple_thirteen = (10, 20, 5, 15)\n",
        "print(min(tuple_thirteen))"
      ],
      "metadata": {
        "colab": {
          "base_uri": "https://localhost:8080/"
        },
        "id": "YaukrbYlYmE6",
        "outputId": "2097dd7e-3b5e-4930-f7f8-c9d4eae56d12"
      },
      "execution_count": 14,
      "outputs": [
        {
          "output_type": "stream",
          "name": "stdout",
          "text": [
            "5\n"
          ]
        }
      ]
    },
    {
      "cell_type": "code",
      "source": [
        "# Question 14: Write a code to find the index of the element 'cat' in the tuple ('dog', 'cat', 'rabbit').\n",
        "\n",
        "tuple_fourteen = ('dog', 'cat', 'rabbit')\n",
        "print(tuple_fourteen.index('cat'))"
      ],
      "metadata": {
        "colab": {
          "base_uri": "https://localhost:8080/"
        },
        "id": "JIZ6s0rUYqjB",
        "outputId": "040cd011-1562-48fd-c950-1b92c964810d"
      },
      "execution_count": 15,
      "outputs": [
        {
          "output_type": "stream",
          "name": "stdout",
          "text": [
            "1\n"
          ]
        }
      ]
    },
    {
      "cell_type": "code",
      "source": [
        "# Question 15: Write a code to create a tuple containing three different fruits and check if 'kiwi' is in it.\n",
        "\n",
        "tuple_fifteen = ('apple', 'banana', 'cherry')\n",
        "print('kiwi' in tuple_fifteen)"
      ],
      "metadata": {
        "colab": {
          "base_uri": "https://localhost:8080/"
        },
        "id": "mx9EyGC4YzUm",
        "outputId": "a4e97195-cfac-46e8-974f-8ef7911a11f3"
      },
      "execution_count": 16,
      "outputs": [
        {
          "output_type": "stream",
          "name": "stdout",
          "text": [
            "False\n"
          ]
        }
      ]
    },
    {
      "cell_type": "code",
      "source": [
        "# Question 16: Write a code to create a set with the elements 'a', 'b', 'c' and print it.\n",
        "\n",
        "set_sixteen = {'a', 'b', 'c'}\n",
        "print(set_sixteen)"
      ],
      "metadata": {
        "colab": {
          "base_uri": "https://localhost:8080/"
        },
        "id": "TFbfW5PgY5je",
        "outputId": "f48e1a0d-f7a1-488d-facf-49b33fe50368"
      },
      "execution_count": 17,
      "outputs": [
        {
          "output_type": "stream",
          "name": "stdout",
          "text": [
            "{'a', 'c', 'b'}\n"
          ]
        }
      ]
    },
    {
      "cell_type": "code",
      "source": [
        "# Question 17: Write a code to clear all elements from the set {1, 2, 3, 4, 5}.\n",
        "\n",
        "set_seventeen = {1, 2, 3, 4, 5}\n",
        "set_seventeen.clear()\n",
        "print(set_seventeen)"
      ],
      "metadata": {
        "colab": {
          "base_uri": "https://localhost:8080/"
        },
        "id": "_yfyoroHY-tu",
        "outputId": "2d6ff592-9a38-4f44-8129-abc07a01f30e"
      },
      "execution_count": 18,
      "outputs": [
        {
          "output_type": "stream",
          "name": "stdout",
          "text": [
            "set()\n"
          ]
        }
      ]
    },
    {
      "cell_type": "code",
      "source": [
        "# Question 18: Write a code to remove the element 3 from the set {1, 2, 3, 4}.\n",
        "\n",
        "set_eighteen = {1, 2, 3, 4}\n",
        "set_eighteen.remove(3)\n",
        "print(set_eighteen)"
      ],
      "metadata": {
        "colab": {
          "base_uri": "https://localhost:8080/"
        },
        "id": "Z0OcLDoCZE49",
        "outputId": "763e4857-4f8f-423b-cf8d-3dc073c4c59e"
      },
      "execution_count": 19,
      "outputs": [
        {
          "output_type": "stream",
          "name": "stdout",
          "text": [
            "{1, 2, 4}\n"
          ]
        }
      ]
    },
    {
      "cell_type": "code",
      "source": [
        "# Question 19: Write a code to find the union of two sets {1, 2, 3} and {3, 4, 5}.\n",
        "\n",
        "set_nineteen_a = {1, 2, 3}\n",
        "set_nineteen_b = {3, 4, 5}\n",
        "print(set_nineteen_a.union(set_nineteen_b))"
      ],
      "metadata": {
        "colab": {
          "base_uri": "https://localhost:8080/"
        },
        "id": "9DVOxXVfZKW2",
        "outputId": "92bc2033-46c5-4d1b-96ee-29c4b3a69e64"
      },
      "execution_count": 20,
      "outputs": [
        {
          "output_type": "stream",
          "name": "stdout",
          "text": [
            "{1, 2, 3, 4, 5}\n"
          ]
        }
      ]
    },
    {
      "cell_type": "code",
      "source": [
        "# Question 20: Write a code to find the intersection of two sets {1, 2, 3} and {2, 3, 4}.\n",
        "\n",
        "set_twenty_a = {1, 2, 3}\n",
        "set_twenty_b = {2, 3, 4}\n",
        "print(set_twenty_a.intersection(set_twenty_b))"
      ],
      "metadata": {
        "colab": {
          "base_uri": "https://localhost:8080/"
        },
        "id": "eUzPJH8yZSg-",
        "outputId": "5bda8aea-1ec5-467b-d4e2-03423cef8c27"
      },
      "execution_count": 21,
      "outputs": [
        {
          "output_type": "stream",
          "name": "stdout",
          "text": [
            "{2, 3}\n"
          ]
        }
      ]
    },
    {
      "cell_type": "code",
      "source": [
        "# Question 21: Write a code to create a dictionary with the keys 'name', 'age', and 'city', and print it.\n",
        "\n",
        "dictionary_twentyone = {'name': 'John', 'age': 30, 'city': 'New York'}\n",
        "print(dictionary_twentyone)"
      ],
      "metadata": {
        "colab": {
          "base_uri": "https://localhost:8080/"
        },
        "id": "hUd0aLNOZXkw",
        "outputId": "a0df7b56-0eac-4d94-9f0d-541961fdfa49"
      },
      "execution_count": 22,
      "outputs": [
        {
          "output_type": "stream",
          "name": "stdout",
          "text": [
            "{'name': 'John', 'age': 30, 'city': 'New York'}\n"
          ]
        }
      ]
    },
    {
      "cell_type": "code",
      "source": [
        "# Question 22: Write a code to add a new key-value pair 'country': 'USA' to the dictionary {'name': 'John', 'age': 25}.\n",
        "\n",
        "dictionary_twentytwo = {'name': 'John', 'age': 25}\n",
        "dictionary_twentytwo['country'] = 'USA'\n",
        "print(dictionary_twentytwo)"
      ],
      "metadata": {
        "colab": {
          "base_uri": "https://localhost:8080/"
        },
        "id": "MEwu-SK3Zbni",
        "outputId": "bf04d4d0-e46b-4749-8865-d871b7038516"
      },
      "execution_count": 23,
      "outputs": [
        {
          "output_type": "stream",
          "name": "stdout",
          "text": [
            "{'name': 'John', 'age': 25, 'country': 'USA'}\n"
          ]
        }
      ]
    },
    {
      "cell_type": "code",
      "source": [
        "# Question 23: Write a code to access the value associated with the key 'name' in the dictionary {'name': 'Alice', 'age': 30}.\n",
        "\n",
        "dictionary_twentythree = {'name': 'Alice', 'age': 30}\n",
        "print(dictionary_twentythree['name'])"
      ],
      "metadata": {
        "colab": {
          "base_uri": "https://localhost:8080/"
        },
        "id": "donENy35Zgy3",
        "outputId": "1d0a3908-8599-40be-9836-892fdf86ef66"
      },
      "execution_count": 24,
      "outputs": [
        {
          "output_type": "stream",
          "name": "stdout",
          "text": [
            "Alice\n"
          ]
        }
      ]
    },
    {
      "cell_type": "code",
      "source": [
        "# Question 24: Write a code to remove the key 'city' from the dictionary {'name': 'Bob', 'age': 32, 'city': 'New York'}.\n",
        "\n",
        "dictionary_twentyfour = {'name': 'Bob', 'age': 32, 'city': 'New York'}\n",
        "del dictionary_twentyfour['city']\n",
        "print(dictionary_twentyfour)"
      ],
      "metadata": {
        "colab": {
          "base_uri": "https://localhost:8080/"
        },
        "id": "T647Hn2kZnTJ",
        "outputId": "2fbd1320-219c-43ba-df56-6e48a467a7e7"
      },
      "execution_count": 25,
      "outputs": [
        {
          "output_type": "stream",
          "name": "stdout",
          "text": [
            "{'name': 'Bob', 'age': 32}\n"
          ]
        }
      ]
    },
    {
      "cell_type": "code",
      "source": [
        "# Question 25: Write a code to check if the key 'city' exists in the dictionary {'name': 'Alice', 'city': 'Paris'}.\n",
        "\n",
        "dictionary_twentyfive = {'name': 'Alice', 'city': 'Paris'}\n",
        "print('city' in dictionary_twentyfive)"
      ],
      "metadata": {
        "colab": {
          "base_uri": "https://localhost:8080/"
        },
        "id": "Cf-MSZQTZsP5",
        "outputId": "5a8c914a-e48d-42a7-e446-136a1abd145a"
      },
      "execution_count": 26,
      "outputs": [
        {
          "output_type": "stream",
          "name": "stdout",
          "text": [
            "True\n"
          ]
        }
      ]
    },
    {
      "cell_type": "code",
      "source": [
        "# Question 26: Write a code to create a list, a tuple, and a dictionary, and print them all.\n",
        "\n",
        "list_twentysix = [1, 2, 3]\n",
        "tuple_twentysix = (4, 5, 6)\n",
        "dict_twentysix = {'a': 1, 'b': 2}\n",
        "print(\"List:\", list_twentysix)\n",
        "print(\"Tuple:\", tuple_twentysix)\n",
        "print(\"Dictionary:\", dict_twentysix)"
      ],
      "metadata": {
        "colab": {
          "base_uri": "https://localhost:8080/"
        },
        "id": "ag94pC97ZyWG",
        "outputId": "1c0810df-cf18-496d-e0c0-85f1dea33059"
      },
      "execution_count": 27,
      "outputs": [
        {
          "output_type": "stream",
          "name": "stdout",
          "text": [
            "List: [1, 2, 3]\n",
            "Tuple: (4, 5, 6)\n",
            "Dictionary: {'a': 1, 'b': 2}\n"
          ]
        }
      ]
    },
    {
      "cell_type": "code",
      "source": [
        "# Question 27: Write a code to create a list of 5 random numbers between 1 and 100, sort it in ascending order, and print the result (replaced).\n",
        "\n",
        "import random\n",
        "list_twentyseven = [random.randint(1, 100) for _ in range(5)]\n",
        "list_twentyseven.sort()\n",
        "print(list_twentyseven)"
      ],
      "metadata": {
        "colab": {
          "base_uri": "https://localhost:8080/"
        },
        "id": "TxPuHk25Z2jf",
        "outputId": "ae707d9b-bc74-4322-bf5d-892d8ac6f4fd"
      },
      "execution_count": 28,
      "outputs": [
        {
          "output_type": "stream",
          "name": "stdout",
          "text": [
            "[12, 13, 34, 57, 91]\n"
          ]
        }
      ]
    },
    {
      "cell_type": "code",
      "source": [
        "# Question 28: Write a code to create a list with strings and print the element at the third index.\n",
        "\n",
        "list_twentyeight = [\"apple\", \"banana\", \"cherry\", \"date\"]\n",
        "print(list_twentyeight[2])"
      ],
      "metadata": {
        "colab": {
          "base_uri": "https://localhost:8080/"
        },
        "id": "FhkMVnD3Z-bX",
        "outputId": "fe5c48b7-0db7-4d73-c555-a22cc212dbe8"
      },
      "execution_count": 29,
      "outputs": [
        {
          "output_type": "stream",
          "name": "stdout",
          "text": [
            "cherry\n"
          ]
        }
      ]
    },
    {
      "cell_type": "code",
      "source": [
        "# Question 29: Write a code to combine two dictionaries into one and print the result.\n",
        "\n",
        "dict_twentynine_a = {'a': 1, 'b': 2}\n",
        "dict_twentynine_b = {'c': 3, 'd': 4}\n",
        "combined_dict = {**dict_twentynine_a, **dict_twentynine_b}\n",
        "print(combined_dict)"
      ],
      "metadata": {
        "colab": {
          "base_uri": "https://localhost:8080/"
        },
        "id": "evc5dMrdbK7X",
        "outputId": "49e83a6e-069a-4901-c06c-d124ab7e67ce"
      },
      "execution_count": 30,
      "outputs": [
        {
          "output_type": "stream",
          "name": "stdout",
          "text": [
            "{'a': 1, 'b': 2, 'c': 3, 'd': 4}\n"
          ]
        }
      ]
    },
    {
      "cell_type": "code",
      "source": [
        "# Question 30: Write a code to convert a list of strings into a set.\n",
        "\n",
        "list_thirty = [\"apple\", \"banana\", \"apple\", \"cherry\"]\n",
        "set_thirty = set(list_thirty)\n",
        "print(set_thirty)"
      ],
      "metadata": {
        "colab": {
          "base_uri": "https://localhost:8080/"
        },
        "id": "3j5Ank9ccBVR",
        "outputId": "9c08c2a2-3a0a-4082-de20-0519de0c3af6"
      },
      "execution_count": 31,
      "outputs": [
        {
          "output_type": "stream",
          "name": "stdout",
          "text": [
            "{'apple', 'banana', 'cherry'}\n"
          ]
        }
      ]
    }
  ]
}